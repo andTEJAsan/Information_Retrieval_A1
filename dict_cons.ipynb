{
 "cells": [
  {
   "cell_type": "code",
   "execution_count": 11,
   "metadata": {},
   "outputs": [],
   "source": [
    "from collections import defaultdict\n",
    "import json\n",
    "import pandas as pd\n",
    "delimiters = [' ', ',', '.', ':', ';', '\"', '\\'']\n",
    "def simple_tokenize(sentence): # takes a string and returns a list of tokens, removes punctuation whitespaces\n",
    "\ttext = sentence\n",
    "\ttokens = []\n",
    "\ti = 0\n",
    "\tn = len(text)\n",
    "\tloctok = []\n",
    "\twhile(i < n):\n",
    "\t\tif(text[i] in delimiters):\n",
    "\t\t\ttokens.append(''.join(loctok))\n",
    "\t\t\tloctok = []\n",
    "\t\t\tj = i\n",
    "\t\t\twhile(j < n and text[j] in delimiters):\n",
    "\t\t\t\tj += 1\n",
    "\t\t\ti = j\n",
    "\t\telse: \n",
    "\t\t\tloctok.append(text[i])\n",
    "\t\t\ti += 1\n",
    "\tif(loctok):\n",
    "\t\ttokens.append(''.join(loctok))\n",
    "\treturn tokens\n",
    "def word_tokenize(sentence):\n",
    "\ttext = sentence\n",
    "\ttokens = []\n",
    "\ti = 0\n",
    "\tn = len(sentence)\n",
    "\tloctok = []\n",
    "\twhile(i < n):\n",
    "\t\tif(text[i] in delimiters):\n",
    "\t\t\tif(loctok):\n",
    "\t\t\t\tloctok.append('_')\n",
    "\t\t\t\ttokens.append(''.join(loctok))\n",
    "\t\t\t\tloctok = []\n",
    "\t\t\tj = i\n",
    "\t\t\twhile(j < n and text[j] in delimiters):\n",
    "\t\t\t\tj += 1\n",
    "\t\t\ti = j\n",
    "\t\telse: \n",
    "\t\t\tloctok.append(text[i])\n",
    "\t\t\ti += 1\n",
    "\tif(loctok):\n",
    "\t\ttokens.append(''.join(loctok))\n",
    "\treturn tokens\n",
    "def test(path):\n",
    "\tdf = pd.read_json(path, lines=True)\n",
    "\tprint(df.head)\n",
    "class my_tokenizer:\n",
    "\tdef __init__(self, path, sz=10):\n",
    "\t\tself.tokens = set()\n",
    "\t\tdf = pd.read_json(path, lines=True)\n",
    "\t\t# first half of the data\n",
    "\t\tn = len(df)\n",
    "\t\tsz = n // 2\n",
    "\t\tself.df = df[:sz]\n",
    "\tdef get_sentences(self):\n",
    "\t\tsentences = []\n",
    "\t\tfields = ['title', 'abstract', 'doi', 'date']\n",
    "\t\tfor index, row in self.df.iterrows():\n",
    "\t\t\tfor field in fields:\n",
    "\t\t\t\tif field in row:\n",
    "\t\t\t\t\tsentences.append(str(row[field]))\n",
    "\t\treturn sentences\n",
    "\tdef simple_train(self):\n",
    "\t\tsentences = self.get_sentences()\n",
    "\t\tfor sentence in sentences:\n",
    "\t\t\ttokens = simple_tokenize(sentence)\n",
    "\t\t\tfor tok in tokens:\n",
    "\t\t\t\tself.tokens.add(tok)\n",
    "\t\tpass\n",
    "\tdef bpe_train(self, k):\n",
    "\t\tsentences = self.get_sentences()\n",
    "\t\t# sentences = ['low low low low low lowest lowest newer newer newer newer newer newer wider wider wider new new ']\n",
    "\t\tword_freqs = defaultdict(int)\n",
    "\t\tfor sentence in sentences:\n",
    "\t\t\tword_tokens = word_tokenize(sentence)\n",
    "\t\t\tfor word in word_tokens:\n",
    "\t\t\t\tword_freqs[word] += 1\n",
    "\n",
    "\t\t# now build the base vocabulary\n",
    "\t\t# print(word_freqs)\n",
    "\t\tword_splits = {}\n",
    "\t\tbase_vocabulary = set()\n",
    "\t\tfor word in word_freqs.keys():\n",
    "\t\t\tfor char in word:\n",
    "\t\t\t\tbase_vocabulary.add(char)\n",
    "\t\t\tword_splits[word] = list(word)\n",
    "\t\t# print(base_vocabulary)\n",
    "\t\tnmerges = 0\n",
    "\t\tmerges = []\n",
    "\t\twhile(nmerges < k):\n",
    "\t\t\tpair_freqs = defaultdict(int)\n",
    "\t\t\tfor word in word_freqs.keys():\n",
    "\t\t\t\tsubword_tok_list = word_splits[word]\n",
    "\t\t\t\tn = len(subword_tok_list)\n",
    "\t\t\t\tif n == 1: continue\n",
    "\t\t\t\tfor i in range(n - 1):\n",
    "\t\t\t\t\tpair = (subword_tok_list[i], subword_tok_list[i+1])\n",
    "\t\t\t\t\tpair_freqs[pair] += word_freqs[word]\n",
    "\t\t\t# as an optimization could map the pairs to the words they are in\n",
    "\n",
    "\t\t\tmax_pair = None\n",
    "\t\t\tmax_freq = 0\n",
    "\t\t\tfor pair, freq in pair_freqs.items():\n",
    "\t\t\t\tif freq > max_freq:\n",
    "\t\t\t\t\tmax_pair = pair\n",
    "\t\t\t\t\tmax_freq = freq\n",
    "\t\t\tif(max_pair == None): break\n",
    "\t\t\t# max_pair = max(pair_freqs, key=pair_freqs.get)\n",
    "\t\t\tbase_vocabulary.add(max_pair[0] + max_pair[1])\n",
    "\t\t\tmerges.append(max_pair)\n",
    "\t\t\tnmerges += 1\n",
    "\t\t\tfor word in word_splits.keys():\n",
    "\t\t\t\tsubword_tok_list = word_splits[word]\t\n",
    "\t\t\t\tif n == 1: continue\n",
    "\t\t\t\tfor i in range(len(word_splits[word]) - 1):\n",
    "\t\t\t\t\tpair = (subword_tok_list[i], subword_tok_list[i+1])\n",
    "\t\t\t\t\tif pair == max_pair:\n",
    "\t\t\t\t\t\tnew_word_splits = subword_tok_list[:i]\n",
    "\t\t\t\t\t\tnew_word_splits.append(max_pair[0] + max_pair[1])\n",
    "\t\t\t\t\t\tnew_word_splits.extend(subword_tok_list[i+2:])\n",
    "\t\t\t\t\t\tword_splits[word] = new_word_splits\n",
    "\t\t\t\t\t\ti -= 1\n",
    "\t\t\t# get the most frequent pair\n",
    "\t\tprint(nmerges)\n",
    "\t\tprint(merges)\n",
    "\t\tself.tokens = base_vocabulary\n",
    "\n",
    "\t\t# print(word_splits)\n",
    "\t\t# print(base_vocabulary)\n"
   ]
  },
  {
   "cell_type": "code",
   "execution_count": 12,
   "metadata": {},
   "outputs": [
    {
     "name": "stdout",
     "output_type": "stream",
     "text": [
      "9\n",
      "[('e', '_'), ('s', '_'), ('i', 'n'), ('d', '_'), ('t', 'h'), ('t', 'i'), ('a', 'n'), ('o', 'n'), ('e', 'r')]\n",
      "time taken = 41.83785915374756\n"
     ]
    }
   ],
   "source": [
    "import time\n",
    "a = my_tokenizer(\"./train_data/cord19-trec_covid-docs\")\n",
    "t1 = time.time()\n",
    "a.bpe_train(9)\n",
    "print(f\"time taken = {time.time() - t1}\")\n",
    "\n",
    "# word_tokenize(\"hello my name is John;doe\")"
   ]
  },
  {
   "cell_type": "code",
   "execution_count": 13,
   "metadata": {},
   "outputs": [
    {
     "name": "stdout",
     "output_type": "stream",
     "text": [
      "18\n",
      "[('e', '_'), ('s', '_'), ('i', 'n'), ('d', '_'), ('t', 'h'), ('t', 'i'), ('a', 'n'), ('o', 'n'), ('e', 'r'), ('e', 'n'), ('a', 'l'), ('r', 'e'), ('y', '_'), ('t', '_'), ('o', 'r'), ('e', 'd_'), ('o', 'f'), ('th', 'e_')]\n",
      "time taken = 55.6195342540741\n"
     ]
    }
   ],
   "source": [
    "\n",
    "t1 = time.time()\n",
    "a.bpe_train(18)\n",
    "print(f\"time taken = {time.time() - t1}\")"
   ]
  },
  {
   "cell_type": "code",
   "execution_count": 14,
   "metadata": {},
   "outputs": [
    {
     "name": "stdout",
     "output_type": "stream",
     "text": [
      "10\n",
      "[('e', '_'), ('s', '_'), ('i', 'n'), ('d', '_'), ('t', 'h'), ('t', 'i'), ('a', 'n'), ('o', 'n'), ('e', 'r'), ('e', 'n')]\n",
      "20\n",
      "[('e', '_'), ('s', '_'), ('i', 'n'), ('d', '_'), ('t', 'h'), ('t', 'i'), ('a', 'n'), ('o', 'n'), ('e', 'r'), ('e', 'n'), ('a', 'l'), ('r', 'e'), ('y', '_'), ('t', '_'), ('o', 'r'), ('e', 'd_'), ('o', 'f'), ('th', 'e_'), ('of', '_'), ('on', '_')]\n",
      "30\n",
      "[('e', '_'), ('s', '_'), ('i', 'n'), ('d', '_'), ('t', 'h'), ('t', 'i'), ('a', 'n'), ('o', 'n'), ('e', 'r'), ('e', 'n'), ('a', 'l'), ('r', 'e'), ('y', '_'), ('t', '_'), ('o', 'r'), ('e', 'd_'), ('o', 'f'), ('th', 'e_'), ('of', '_'), ('on', '_'), ('a', 'r'), ('i', 'c'), ('an', 'd_'), ('r', 'o'), ('a', 't'), ('a', 'ti'), ('al', '_'), ('g', '_'), ('s', 't'), ('in', '_')]\n",
      "40\n",
      "[('e', '_'), ('s', '_'), ('i', 'n'), ('d', '_'), ('t', 'h'), ('t', 'i'), ('a', 'n'), ('o', 'n'), ('e', 'r'), ('e', 'n'), ('a', 'l'), ('r', 'e'), ('y', '_'), ('t', '_'), ('o', 'r'), ('e', 'd_'), ('o', 'f'), ('th', 'e_'), ('of', '_'), ('on', '_'), ('a', 'r'), ('i', 'c'), ('an', 'd_'), ('r', 'o'), ('a', 't'), ('a', 'ti'), ('al', '_'), ('g', '_'), ('s', 't'), ('in', '_'), ('e', 's_'), ('o', '_'), ('0', '0'), ('in', 'g_'), ('s', 'i'), ('e', 'c'), ('a', '_'), ('a', 's'), ('c', 'o'), ('a', 'c')]\n",
      "50\n",
      "[('e', '_'), ('s', '_'), ('i', 'n'), ('d', '_'), ('t', 'h'), ('t', 'i'), ('a', 'n'), ('o', 'n'), ('e', 'r'), ('e', 'n'), ('a', 'l'), ('r', 'e'), ('y', '_'), ('t', '_'), ('o', 'r'), ('e', 'd_'), ('o', 'f'), ('th', 'e_'), ('of', '_'), ('on', '_'), ('a', 'r'), ('i', 'c'), ('an', 'd_'), ('r', 'o'), ('a', 't'), ('a', 'ti'), ('al', '_'), ('g', '_'), ('s', 't'), ('in', '_'), ('e', 's_'), ('o', '_'), ('0', '0'), ('in', 'g_'), ('s', 'i'), ('e', 'c'), ('a', '_'), ('a', 's'), ('c', 'o'), ('a', 'c'), ('d', 'i'), ('u', 'r'), ('e', 'l'), ('t', 'o_'), (')', '_'), ('or', '_'), ('v', 'i'), ('er', '_'), ('t', 's_'), ('th', '_')]\n"
     ]
    }
   ],
   "source": [
    "import matplotlib.pyplot as plt\n",
    "k_tests = [10,20,30,40,50]\n",
    "times = []\n",
    "for k in k_tests:\n",
    "\tt1 = time.time()\n",
    "\ta.bpe_train(k)\n",
    "\ttimes.append(time.time() - t1)"
   ]
  },
  {
   "cell_type": "code",
   "execution_count": 15,
   "metadata": {},
   "outputs": [
    {
     "data": {
      "text/plain": [
       "<matplotlib.collections.PathCollection at 0x17d7fa2d0>"
      ]
     },
     "execution_count": 15,
     "metadata": {},
     "output_type": "execute_result"
    },
    {
     "data": {
      "image/png": "[encoded data removed]",
      "text/plain": [
       "<Figure size 640x480 with 1 Axes>"
      ]
     },
     "metadata": {},
     "output_type": "display_data"
    }
   ],
   "source": [
    "\n",
    "plt.scatter(k_tests, times)"
   ]
  },
  {
   "cell_type": "code",
   "execution_count": null,
   "metadata": {},
   "outputs": [],
   "source": []
  }
 ],
 "metadata": {
  "kernelspec": {
   "display_name": "Python 3",
   "language": "python",
   "name": "python3"
  },
  "language_info": {
   "codemirror_mode": {
    "name": "ipython",
    "version": 3
   },
   "file_extension": ".py",
   "mimetype": "text/x-python",
   "name": "python",
   "nbconvert_exporter": "python",
   "pygments_lexer": "ipython3",
   "version": "3.11.9"
  }
 },
 "nbformat": 4,
 "nbformat_minor": 2
}
